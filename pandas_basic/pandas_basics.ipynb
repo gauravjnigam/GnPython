{
 "cells": [
  {
   "cell_type": "markdown",
   "metadata": {},
   "source": [
    "##  Pandas - Introduction \n",
    "### Data science and Data analytics ?\n",
    "    ## Process of analysing large set of data points to get answer on questions related to data set\n",
    "    ## Data Munging and Wrangling - Process of cleaning messy data to make data ready for further processing \n",
    "\n",
    "      \n",
    "### Real worlds scenario \n",
    "    ## its harder to handle large data in Excel and perform filter and other operation \n",
    "    ## \n",
    "    \n"
   ]
  },
  {
   "cell_type": "code",
   "execution_count": 2,
   "metadata": {},
   "outputs": [],
   "source": [
    "# importing pandas module \n",
    "import pandas as pd"
   ]
  },
  {
   "cell_type": "markdown",
   "metadata": {},
   "source": [
    "## Pandas - \n",
    "### Python tools for data science\n",
    "#### Datatypes - pd.Series,  pd.DataFrame? \n"
   ]
  },
  {
   "cell_type": "code",
   "execution_count": 27,
   "metadata": {},
   "outputs": [],
   "source": [
    "## Pandas Main feature \n",
    "pd?"
   ]
  },
  {
   "cell_type": "markdown",
   "metadata": {},
   "source": [
    "### DataFrame - Main object in pandas which represents rows and columns( tabular like data)"
   ]
  },
  {
   "cell_type": "markdown",
   "metadata": {},
   "source": [
    "## Creating data frame"
   ]
  },
  {
   "cell_type": "code",
   "execution_count": 62,
   "metadata": {},
   "outputs": [],
   "source": [
    "# 3 ways to create DataFrame\n",
    "# From Dict\n",
    "\n",
    "weather_data = {\n",
    "    'day': ['1/1/2019', '1/2/2019', '1/3/2019', '1/4/2019', '1/5/2019', '1/6/2019'],\n",
    "    'Temperature':[34,12,24,25,23,21],\n",
    "    'wind speed':[20,34,23,24,22,30],\n",
    "    'event':['Rain', 'Snow', 'Rain', 'cloudy', 'Snow', 'Rain' ]\n",
    "}\n",
    "\n",
    "df1 = pd.DataFrame(weather_data)\n",
    "\n"
   ]
  },
  {
   "cell_type": "code",
   "execution_count": 63,
   "metadata": {},
   "outputs": [
    {
     "name": "stdout",
     "output_type": "stream",
     "text": [
      "<class 'pandas.core.series.Series'>\n",
      "<class 'pandas.core.frame.DataFrame'>\n"
     ]
    }
   ],
   "source": [
    "print(type(df1.day))\n",
    "print(type(df1))"
   ]
  },
  {
   "cell_type": "code",
   "execution_count": 64,
   "metadata": {},
   "outputs": [
    {
     "name": "stdout",
     "output_type": "stream",
     "text": [
      "        day  Temperature  wind speed   event\n",
      "0  1/1/2019           34          20    Rain\n",
      "1  1/2/2019           12          34    Snow\n",
      "2  1/3/2019           24          23    Rain\n",
      "3  1/4/2019           25          24  cloudy\n",
      "4  1/5/2019           23          22    Snow\n",
      "5  1/6/2019           21          30    Rain\n",
      "(6, 4)\n",
      "        day  Temperature  wind speed event\n",
      "0  1/1/2019           34          20  Rain\n",
      "1  1/2/2019           12          34  Snow\n",
      "2  1/3/2019           24          23  Rain\n"
     ]
    }
   ],
   "source": [
    "print(df1)\n",
    "print(df1.shape) ## shape of table\n",
    "print(df1.head(3)) ## print top n rows"
   ]
  },
  {
   "cell_type": "markdown",
   "metadata": {},
   "source": [
    "## Dealing with rows and columns"
   ]
  },
  {
   "cell_type": "code",
   "execution_count": 79,
   "metadata": {},
   "outputs": [
    {
     "name": "stdout",
     "output_type": "stream",
     "text": [
      "Index(['day', 'Temperature', 'wind speed', 'event'], dtype='object')\n",
      "----------------------------------------------------------------------------------------------------\n",
      "0    34\n",
      "1    12\n",
      "2    24\n",
      "3    25\n",
      "4    23\n",
      "5    21\n",
      "Name: Temperature, dtype: int64\n",
      "----------------------------------------------------------------------------------------------------\n",
      "        day  Temperature\n",
      "0  1/1/2019           34\n",
      "1  1/2/2019           12\n",
      "2  1/3/2019           24\n",
      "3  1/4/2019           25\n",
      "4  1/5/2019           23\n",
      "5  1/6/2019           21\n",
      "----------------------------------------------------------------------------------------------------\n",
      "0    1/1/2019\n",
      "1    1/2/2019\n",
      "2    1/3/2019\n",
      "Name: day, dtype: object\n"
     ]
    }
   ],
   "source": [
    "print(df1.columns) ## print columns\n",
    "print('-'*100)\n",
    "print(df1.Temperature) ## Print data of specific column\n",
    "print('-'*100)\n",
    "print(df1[['day', 'Temperature']]) ## print data of multiple columns\n",
    "print('-'*100)\n",
    "print (df1.day[:3])"
   ]
  },
  {
   "cell_type": "markdown",
   "metadata": {},
   "source": [
    "## Operation: min, max, std etc"
   ]
  },
  {
   "cell_type": "code",
   "execution_count": 86,
   "metadata": {},
   "outputs": [
    {
     "name": "stdout",
     "output_type": "stream",
     "text": [
      "34\n",
      "       Temperature  wind speed\n",
      "count     6.000000    6.000000\n",
      "mean     23.166667   25.500000\n",
      "std       7.082843    5.357238\n",
      "min      12.000000   20.000000\n",
      "25%      21.500000   22.250000\n",
      "50%      23.500000   23.500000\n",
      "75%      24.750000   28.500000\n",
      "max      34.000000   34.000000\n"
     ]
    }
   ],
   "source": [
    "print(df1.Temperature.max())\n",
    "print(df1.describe()) ## Print statistcs of data\n"
   ]
  },
  {
   "cell_type": "markdown",
   "metadata": {},
   "source": [
    "## conditional selection"
   ]
  },
  {
   "cell_type": "code",
   "execution_count": 100,
   "metadata": {},
   "outputs": [
    {
     "name": "stdout",
     "output_type": "stream",
     "text": [
      "        day  Temperature  wind speed   event\n",
      "1  1/2/2019           12          34    Snow\n",
      "2  1/3/2019           24          23    Rain\n",
      "3  1/4/2019           25          24  cloudy\n",
      "4  1/5/2019           23          22    Snow\n",
      "5  1/6/2019           21          30    Rain\n",
      "----------------------------------------------------------------------------------------------------\n",
      "        day  Temperature  wind speed event\n",
      "1  1/2/2019           12          34  Snow\n"
     ]
    }
   ],
   "source": [
    "print(df1[df1.Temperature < 30]) \n",
    "print('-'*100)\n",
    "print(df1[df1.Temperature == df1['Temperature'].min()])"
   ]
  },
  {
   "cell_type": "markdown",
   "metadata": {},
   "source": [
    "## set index"
   ]
  },
  {
   "cell_type": "code",
   "execution_count": 104,
   "metadata": {},
   "outputs": [
    {
     "data": {
      "text/html": [
       "<div>\n",
       "<style scoped>\n",
       "    .dataframe tbody tr th:only-of-type {\n",
       "        vertical-align: middle;\n",
       "    }\n",
       "\n",
       "    .dataframe tbody tr th {\n",
       "        vertical-align: top;\n",
       "    }\n",
       "\n",
       "    .dataframe thead th {\n",
       "        text-align: right;\n",
       "    }\n",
       "</style>\n",
       "<table border=\"1\" class=\"dataframe\">\n",
       "  <thead>\n",
       "    <tr style=\"text-align: right;\">\n",
       "      <th></th>\n",
       "      <th>day</th>\n",
       "      <th>Temperature</th>\n",
       "      <th>wind speed</th>\n",
       "    </tr>\n",
       "    <tr>\n",
       "      <th>event</th>\n",
       "      <th></th>\n",
       "      <th></th>\n",
       "      <th></th>\n",
       "    </tr>\n",
       "  </thead>\n",
       "  <tbody>\n",
       "    <tr>\n",
       "      <th>Rain</th>\n",
       "      <td>1/1/2019</td>\n",
       "      <td>34</td>\n",
       "      <td>20</td>\n",
       "    </tr>\n",
       "    <tr>\n",
       "      <th>Snow</th>\n",
       "      <td>1/2/2019</td>\n",
       "      <td>12</td>\n",
       "      <td>34</td>\n",
       "    </tr>\n",
       "    <tr>\n",
       "      <th>Rain</th>\n",
       "      <td>1/3/2019</td>\n",
       "      <td>24</td>\n",
       "      <td>23</td>\n",
       "    </tr>\n",
       "    <tr>\n",
       "      <th>cloudy</th>\n",
       "      <td>1/4/2019</td>\n",
       "      <td>25</td>\n",
       "      <td>24</td>\n",
       "    </tr>\n",
       "    <tr>\n",
       "      <th>Snow</th>\n",
       "      <td>1/5/2019</td>\n",
       "      <td>23</td>\n",
       "      <td>22</td>\n",
       "    </tr>\n",
       "    <tr>\n",
       "      <th>Rain</th>\n",
       "      <td>1/6/2019</td>\n",
       "      <td>21</td>\n",
       "      <td>30</td>\n",
       "    </tr>\n",
       "  </tbody>\n",
       "</table>\n",
       "</div>"
      ],
      "text/plain": [
       "             day  Temperature  wind speed\n",
       "event                                    \n",
       "Rain    1/1/2019           34          20\n",
       "Snow    1/2/2019           12          34\n",
       "Rain    1/3/2019           24          23\n",
       "cloudy  1/4/2019           25          24\n",
       "Snow    1/5/2019           23          22\n",
       "Rain    1/6/2019           21          30"
      ]
     },
     "execution_count": 104,
     "metadata": {},
     "output_type": "execute_result"
    }
   ],
   "source": [
    "df1.set_index('event')"
   ]
  },
  {
   "cell_type": "code",
   "execution_count": null,
   "metadata": {},
   "outputs": [],
   "source": []
  },
  {
   "cell_type": "code",
   "execution_count": null,
   "metadata": {},
   "outputs": [],
   "source": [
    "\n",
    "file = 'weather_data.csv'\n",
    "df = pd.read_csv(file)"
   ]
  },
  {
   "cell_type": "code",
   "execution_count": 101,
   "metadata": {},
   "outputs": [
    {
     "data": {
      "text/plain": [
       "0     38\n",
       "1     36\n",
       "2     40\n",
       "3     25\n",
       "4     20\n",
       "5     33\n",
       "6     39\n",
       "7     39\n",
       "8     44\n",
       "9     50\n",
       "10    33\n",
       "11    35\n",
       "12    26\n",
       "13    30\n",
       "14    43\n",
       "15    47\n",
       "16    36\n",
       "17    25\n",
       "18    22\n",
       "19    32\n",
       "20    31\n",
       "21    26\n",
       "22    26\n",
       "23    28\n",
       "24    34\n",
       "25    43\n",
       "26    41\n",
       "27    37\n",
       "28    36\n",
       "29    34\n",
       "30    46\n",
       "Name: Temperature, dtype: int64"
      ]
     },
     "execution_count": 101,
     "metadata": {},
     "output_type": "execute_result"
    }
   ],
   "source": [
    "df['Temperature']"
   ]
  },
  {
   "cell_type": "code",
   "execution_count": null,
   "metadata": {},
   "outputs": [],
   "source": []
  },
  {
   "cell_type": "code",
   "execution_count": 19,
   "metadata": {},
   "outputs": [
    {
     "data": {
      "text/plain": [
       "pandas.core.frame.DataFrame"
      ]
     },
     "execution_count": 19,
     "metadata": {},
     "output_type": "execute_result"
    }
   ],
   "source": [
    "type(df)"
   ]
  },
  {
   "cell_type": "code",
   "execution_count": 24,
   "metadata": {},
   "outputs": [
    {
     "data": {
      "text/plain": [
       "0      8.0\n",
       "1      7.0\n",
       "2      8.0\n",
       "3      9.0\n",
       "4      5.0\n",
       "5      4.0\n",
       "6      2.0\n",
       "7      4.0\n",
       "8      8.0\n",
       "9      NaN\n",
       "10     NaN\n",
       "11     6.0\n",
       "12    10.0\n",
       "13     5.0\n",
       "14     5.0\n",
       "15     7.0\n",
       "16     6.0\n",
       "17    12.0\n",
       "18    11.0\n",
       "19     6.0\n",
       "20     6.0\n",
       "21     NaN\n",
       "22    16.0\n",
       "23     6.0\n",
       "24     3.0\n",
       "25     7.0\n",
       "26     7.0\n",
       "27     5.0\n",
       "28     8.0\n",
       "29     7.0\n",
       "30     5.0\n",
       "Name: WindSpeedMPH, dtype: float64"
      ]
     },
     "execution_count": 24,
     "metadata": {},
     "output_type": "execute_result"
    }
   ],
   "source": [
    "dfdf['WindSpeedMPH']"
   ]
  },
  {
   "cell_type": "code",
   "execution_count": null,
   "metadata": {},
   "outputs": [],
   "source": []
  }
 ],
 "metadata": {
  "kernelspec": {
   "display_name": "Python 3",
   "language": "python",
   "name": "python3"
  },
  "language_info": {
   "codemirror_mode": {
    "name": "ipython",
    "version": 3
   },
   "file_extension": ".py",
   "mimetype": "text/x-python",
   "name": "python",
   "nbconvert_exporter": "python",
   "pygments_lexer": "ipython3",
   "version": "3.6.5"
  }
 },
 "nbformat": 4,
 "nbformat_minor": 2
}
